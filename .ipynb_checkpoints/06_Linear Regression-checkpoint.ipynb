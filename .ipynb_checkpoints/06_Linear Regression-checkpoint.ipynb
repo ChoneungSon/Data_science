{
 "cells": [
  {
   "cell_type": "code",
   "execution_count": 1,
   "metadata": {},
   "outputs": [],
   "source": [
    "import numpy as np\n",
    "import pandas as pd"
   ]
  },
  {
   "cell_type": "code",
   "execution_count": 2,
   "metadata": {},
   "outputs": [],
   "source": [
    "class LinearRegression(object):\n",
    "    def __init__(self, fit_intercept=True, copy_X=True):\n",
    "        self.fit_intercept = fit_intercept\n",
    "        self.copy_X = copy_X\n",
    "        \n",
    "        self._coef = None\n",
    "        self._intercept = None\n",
    "        self._new_X = None\n",
    "        \n",
    "    def fit(self, X, y):\n",
    "        self._new_X = np.array(X)\n",
    "        y = y.reshape(-1, 1)\n",
    "        if self.fit_intercept:\n",
    "            intercept_vector = np.ones([self._new_X.shape[0], 1])\n",
    "            self._new_X = np.concatenate(\n",
    "                (intercept_vector, self._new_X), axis=1\n",
    "            )\n",
    "        weights = np.linalg.inv(self._new_X.T.dot(self._new_X)).dot(self._new_X.T.dot(y)).flatten()\n",
    "        print(weights)\n",
    "\n",
    "        if self.fit_intercept:\n",
    "            self._intercept = weights[0]\n",
    "            self._coef = weights[1]\n",
    "        else: self._coef = weights[0]\n",
    "        print(self._coef)\n",
    "\n",
    "    def predict(self, X):\n",
    "        if self.fit_intercept:\n",
    "            return X*self._coef + self._intercept\n",
    "        else: return X*self._coef\n",
    "\n",
    "    @property\n",
    "    def coef(self):\n",
    "        return self._coef\n",
    "\n",
    "    @property\n",
    "    def intercept(self):\n",
    "        return self._intercept"
   ]
  },
  {
   "cell_type": "code",
   "execution_count": 3,
   "metadata": {},
   "outputs": [
    {
     "data": {
      "text/html": [
       "<div>\n",
       "<style scoped>\n",
       "    .dataframe tbody tr th:only-of-type {\n",
       "        vertical-align: middle;\n",
       "    }\n",
       "\n",
       "    .dataframe tbody tr th {\n",
       "        vertical-align: top;\n",
       "    }\n",
       "\n",
       "    .dataframe thead th {\n",
       "        text-align: right;\n",
       "    }\n",
       "</style>\n",
       "<table border=\"1\" class=\"dataframe\">\n",
       "  <thead>\n",
       "    <tr style=\"text-align: right;\">\n",
       "      <th></th>\n",
       "      <th>x</th>\n",
       "      <th>y</th>\n",
       "    </tr>\n",
       "  </thead>\n",
       "  <tbody>\n",
       "    <tr>\n",
       "      <th>0</th>\n",
       "      <td>77</td>\n",
       "      <td>79.775152</td>\n",
       "    </tr>\n",
       "    <tr>\n",
       "      <th>1</th>\n",
       "      <td>21</td>\n",
       "      <td>23.177279</td>\n",
       "    </tr>\n",
       "    <tr>\n",
       "      <th>2</th>\n",
       "      <td>22</td>\n",
       "      <td>25.609262</td>\n",
       "    </tr>\n",
       "    <tr>\n",
       "      <th>3</th>\n",
       "      <td>20</td>\n",
       "      <td>17.857388</td>\n",
       "    </tr>\n",
       "    <tr>\n",
       "      <th>4</th>\n",
       "      <td>36</td>\n",
       "      <td>41.849864</td>\n",
       "    </tr>\n",
       "    <tr>\n",
       "      <th>...</th>\n",
       "      <td>...</td>\n",
       "      <td>...</td>\n",
       "    </tr>\n",
       "    <tr>\n",
       "      <th>295</th>\n",
       "      <td>71</td>\n",
       "      <td>68.545888</td>\n",
       "    </tr>\n",
       "    <tr>\n",
       "      <th>296</th>\n",
       "      <td>46</td>\n",
       "      <td>47.334876</td>\n",
       "    </tr>\n",
       "    <tr>\n",
       "      <th>297</th>\n",
       "      <td>55</td>\n",
       "      <td>54.090637</td>\n",
       "    </tr>\n",
       "    <tr>\n",
       "      <th>298</th>\n",
       "      <td>62</td>\n",
       "      <td>63.297171</td>\n",
       "    </tr>\n",
       "    <tr>\n",
       "      <th>299</th>\n",
       "      <td>47</td>\n",
       "      <td>52.459467</td>\n",
       "    </tr>\n",
       "  </tbody>\n",
       "</table>\n",
       "<p>300 rows × 2 columns</p>\n",
       "</div>"
      ],
      "text/plain": [
       "      x          y\n",
       "0    77  79.775152\n",
       "1    21  23.177279\n",
       "2    22  25.609262\n",
       "3    20  17.857388\n",
       "4    36  41.849864\n",
       "..   ..        ...\n",
       "295  71  68.545888\n",
       "296  46  47.334876\n",
       "297  55  54.090637\n",
       "298  62  63.297171\n",
       "299  47  52.459467\n",
       "\n",
       "[300 rows x 2 columns]"
      ]
     },
     "execution_count": 3,
     "metadata": {},
     "output_type": "execute_result"
    }
   ],
   "source": [
    "df = pd.read_csv('06_Linear Regression/test.csv')\n",
    "df"
   ]
  },
  {
   "cell_type": "code",
   "execution_count": 4,
   "metadata": {},
   "outputs": [],
   "source": [
    "X = df['x'].values.reshape(-1,1)\n",
    "y = df['y'].values"
   ]
  },
  {
   "cell_type": "code",
   "execution_count": 5,
   "metadata": {},
   "outputs": [],
   "source": [
    "lr = LinearRegression()"
   ]
  },
  {
   "cell_type": "code",
   "execution_count": 6,
   "metadata": {},
   "outputs": [
    {
     "name": "stdout",
     "output_type": "stream",
     "text": [
      "[-0.46181077  1.01433536]\n",
      "1.0143353551195156\n"
     ]
    }
   ],
   "source": [
    "lr.fit(X, y)"
   ]
  },
  {
   "cell_type": "code",
   "execution_count": 7,
   "metadata": {},
   "outputs": [
    {
     "data": {
      "text/plain": [
       "(300, 2)"
      ]
     },
     "execution_count": 7,
     "metadata": {},
     "output_type": "execute_result"
    }
   ],
   "source": [
    "lr._new_X.shape"
   ]
  },
  {
   "cell_type": "code",
   "execution_count": 8,
   "metadata": {},
   "outputs": [
    {
     "data": {
      "text/plain": [
       "True"
      ]
     },
     "execution_count": 8,
     "metadata": {},
     "output_type": "execute_result"
    }
   ],
   "source": [
    "lr.fit_intercept"
   ]
  },
  {
   "cell_type": "code",
   "execution_count": 9,
   "metadata": {},
   "outputs": [
    {
     "name": "stdout",
     "output_type": "stream",
     "text": [
      "124.30143790603944\n"
     ]
    }
   ],
   "source": [
    "print(lr.predict(123))"
   ]
  },
  {
   "cell_type": "code",
   "execution_count": 10,
   "metadata": {},
   "outputs": [
    {
     "data": {
      "text/plain": [
       "(300,)"
      ]
     },
     "execution_count": 10,
     "metadata": {},
     "output_type": "execute_result"
    }
   ],
   "source": [
    "X.shape\n",
    "y.shape"
   ]
  },
  {
   "cell_type": "code",
   "execution_count": 11,
   "metadata": {},
   "outputs": [
    {
     "data": {
      "text/plain": [
       "LinearRegression()"
      ]
     },
     "execution_count": 11,
     "metadata": {},
     "output_type": "execute_result"
    }
   ],
   "source": [
    "from sklearn import linear_model\n",
    "sk_lr = linear_model.LinearRegression(normalize=False)\n",
    "sk_lr.fit(X, y)"
   ]
  },
  {
   "cell_type": "code",
   "execution_count": 12,
   "metadata": {},
   "outputs": [
    {
     "data": {
      "text/plain": [
       "-0.4618107736611847"
      ]
     },
     "execution_count": 12,
     "metadata": {},
     "output_type": "execute_result"
    }
   ],
   "source": [
    "sk_lr.intercept_"
   ]
  },
  {
   "cell_type": "code",
   "execution_count": 13,
   "metadata": {},
   "outputs": [
    {
     "data": {
      "text/plain": [
       "array([1.01433536])"
      ]
     },
     "execution_count": 13,
     "metadata": {},
     "output_type": "execute_result"
    }
   ],
   "source": [
    "sk_lr.coef_"
   ]
  },
  {
   "cell_type": "code",
   "execution_count": 14,
   "metadata": {},
   "outputs": [
    {
     "data": {
      "text/plain": [
       "array([ 77.64201157,  20.83923168,  21.85356704,  19.82489633,\n",
       "        36.05426201,  14.75321955,  62.42698124,  95.90004796,\n",
       "        19.82489633,   4.609866  ,   3.59553065,  18.81056097,\n",
       "        96.91438332,  62.42698124,  36.05426201,  14.75321955,\n",
       "        65.46998731,  13.7388842 ,  87.78536512,  69.52732873,\n",
       "        89.81403583,  51.26929234,  89.81403583,  26.92524381,\n",
       "        97.92871867,  58.36963982,  79.67068228,  20.83923168,\n",
       "        93.87137725,  26.92524381,  99.95738938,  30.98258524,\n",
       "        33.01125595,  80.68501764,  27.93957917,  47.21195092,\n",
       "        53.29796305,  69.52732873,  27.93957917,  33.01125595,\n",
       "        91.84270654,  71.55599944,  50.25495698,  76.62767622,\n",
       "         3.59553065,  37.06859737,  70.54166408,  68.51299337,\n",
       "        40.11160343,  35.03992666,  94.88571261,  88.79970048,\n",
       "        52.28362769,  30.98258524,  59.38397518,  -0.46181077,\n",
       "        39.09726808,  64.45565195,  69.52732873,  57.35530447,\n",
       "        12.72454884,  72.57033479,  76.62767622,  61.41264589,\n",
       "        82.71368835,  17.79622562,  41.12593879,  50.25495698,\n",
       "        55.32663376,  12.72454884,  46.19761556,  12.72454884,\n",
       "        79.67068228,  53.29796305,  14.75321955,  27.93957917,\n",
       "        81.69935299,  69.52732873,  52.28362769,  84.74235906,\n",
       "        68.51299337,  26.92524381,  56.34096911,  48.22628627,\n",
       "        40.11160343,  39.09726808,  82.71368835, 100.97172474,\n",
       "        59.38397518,  43.1546095 ,  67.49865802,  38.08293272,\n",
       "        63.4413166 ,  91.84270654,  60.39831053,  13.7388842 ,\n",
       "        20.83923168,  87.78536512,  73.58467015,  31.99692059,\n",
       "         1.56685994,  82.71368835,  18.81056097,  74.59900551,\n",
       "        42.14027414,  11.71021349,   0.55252458,  90.82837119,\n",
       "        89.81403583,  -0.46181077,  41.12593879,  15.76755491,\n",
       "        94.88571261,  97.92871867,  66.48432266,  23.88223775,\n",
       "        16.78189026,  90.82837119,  12.72454884,  -0.46181077,\n",
       "        64.45565195,  96.91438332,  98.94305403,  11.71021349,\n",
       "        41.12593879,  47.21195092,  78.65634693,  19.82489633,\n",
       "        89.81403583,  28.95391452,  64.45565195,  75.61334086,\n",
       "        11.71021349,  24.8965731 ,  27.93957917,  29.96824988,\n",
       "        65.46998731,  59.38397518,  64.45565195,  53.29796305,\n",
       "        71.55599944,  97.92871867,  73.58467015,   8.66720742,\n",
       "        11.71021349,  63.4413166 ,  99.95738938,  60.39831053,\n",
       "        35.03992666,   1.56685994,  60.39831053,  31.99692059,\n",
       "        94.88571261,  84.74235906,  63.4413166 ,  21.85356704,\n",
       "        81.69935299,  93.87137725,  33.01125595,   6.63853671,\n",
       "        42.14027414,  46.19761556,  54.3122984 ,  15.76755491,\n",
       "        49.24062163,  43.1546095 ,  95.90004796,  66.48432266,\n",
       "        20.83923168,  35.03992666,  80.68501764,  37.06859737,\n",
       "        54.3122984 ,  56.34096911,   0.55252458,  31.99692059,\n",
       "        58.36963982,  31.99692059,  46.19761556,  72.57033479,\n",
       "        16.78189026,  97.92871867,  93.87137725,  91.84270654,\n",
       "        37.06859737,   3.59553065,  54.3122984 ,  51.26929234,\n",
       "        26.92524381,  46.19761556,  92.8570419 ,  73.58467015,\n",
       "        77.64201157,  91.84270654,  61.41264589,  99.95738938,\n",
       "         3.59553065,  72.57033479,  18.81056097,  57.35530447,\n",
       "        78.65634693,  25.91090846,  74.59900551,  90.82837119,\n",
       "        66.48432266,  12.72454884,  40.11160343,  77.64201157,\n",
       "        67.49865802,  75.61334086,  22.86790239,  45.18328021,\n",
       "        59.38397518,  44.16894485,  22.86790239,  55.32663376,\n",
       "        55.32663376,  95.90004796,  11.71021349,   3.59553065,\n",
       "         6.63853671, 100.97172474,  48.22628627,  42.14027414,\n",
       "        96.91438332,  39.09726808, 100.97172474,  87.78536512,\n",
       "        13.7388842 ,  13.7388842 ,  37.06859737,   4.609866  ,\n",
       "        88.79970048,  91.84270654,  65.46998731,  74.59900551,\n",
       "        56.34096911,  15.76755491,   4.609866  ,  27.93957917,\n",
       "        92.8570419 ,  46.19761556,  54.3122984 ,  39.09726808,\n",
       "        44.16894485,  30.98258524,  68.51299337,  86.77102977,\n",
       "        90.82837119,  38.08293272,  20.83923168,  95.90004796,\n",
       "        56.34096911,  60.39831053,  65.46998731,  78.65634693,\n",
       "        89.81403583,   5.62420136,  67.49865802,  36.05426201,\n",
       "        15.76755491, 100.97172474,  45.18328021,  73.58467015,\n",
       "        57.35530447,  19.82489633,  76.62767622,  34.0255913 ,\n",
       "        55.32663376,  72.57033479,  55.32663376,   7.65287207,\n",
       "        56.34096911,  72.57033479,  58.36963982,   5.62420136,\n",
       "        96.91438332,  22.86790239,  58.36963982,  22.86790239,\n",
       "        18.81056097,  24.8965731 ,  64.45565195,  20.83923168,\n",
       "        59.38397518,  18.81056097,  15.76755491,  42.14027414,\n",
       "        43.1546095 ,  61.41264589,  92.8570419 ,  10.69587813,\n",
       "        41.12593879,   0.55252458,   7.65287207,  71.55599944,\n",
       "        46.19761556,  55.32663376,  62.42698124,  47.21195092])"
      ]
     },
     "execution_count": 14,
     "metadata": {},
     "output_type": "execute_result"
    }
   ],
   "source": [
    "sk_lr.predict(X)"
   ]
  },
  {
   "cell_type": "code",
   "execution_count": 15,
   "metadata": {},
   "outputs": [],
   "source": [
    "df = pd.read_csv(\"06_Linear Regression/mlr09.csv\")"
   ]
  },
  {
   "cell_type": "code",
   "execution_count": 16,
   "metadata": {},
   "outputs": [
    {
     "data": {
      "text/html": [
       "<div>\n",
       "<style scoped>\n",
       "    .dataframe tbody tr th:only-of-type {\n",
       "        vertical-align: middle;\n",
       "    }\n",
       "\n",
       "    .dataframe tbody tr th {\n",
       "        vertical-align: top;\n",
       "    }\n",
       "\n",
       "    .dataframe thead th {\n",
       "        text-align: right;\n",
       "    }\n",
       "</style>\n",
       "<table border=\"1\" class=\"dataframe\">\n",
       "  <thead>\n",
       "    <tr style=\"text-align: right;\">\n",
       "      <th></th>\n",
       "      <th>height_in_feet</th>\n",
       "      <th>weight_in_pounds</th>\n",
       "      <th>successful_field_goals</th>\n",
       "      <th>percent_of_successful_free_throws</th>\n",
       "      <th>average_points_scored</th>\n",
       "    </tr>\n",
       "  </thead>\n",
       "  <tbody>\n",
       "    <tr>\n",
       "      <th>0</th>\n",
       "      <td>6.8</td>\n",
       "      <td>225</td>\n",
       "      <td>0.442</td>\n",
       "      <td>0.672</td>\n",
       "      <td>9.2</td>\n",
       "    </tr>\n",
       "    <tr>\n",
       "      <th>1</th>\n",
       "      <td>6.3</td>\n",
       "      <td>180</td>\n",
       "      <td>0.435</td>\n",
       "      <td>0.797</td>\n",
       "      <td>11.7</td>\n",
       "    </tr>\n",
       "    <tr>\n",
       "      <th>2</th>\n",
       "      <td>6.4</td>\n",
       "      <td>190</td>\n",
       "      <td>0.456</td>\n",
       "      <td>0.761</td>\n",
       "      <td>15.8</td>\n",
       "    </tr>\n",
       "    <tr>\n",
       "      <th>3</th>\n",
       "      <td>6.2</td>\n",
       "      <td>180</td>\n",
       "      <td>0.416</td>\n",
       "      <td>0.651</td>\n",
       "      <td>8.6</td>\n",
       "    </tr>\n",
       "    <tr>\n",
       "      <th>4</th>\n",
       "      <td>6.9</td>\n",
       "      <td>205</td>\n",
       "      <td>0.449</td>\n",
       "      <td>0.900</td>\n",
       "      <td>23.2</td>\n",
       "    </tr>\n",
       "  </tbody>\n",
       "</table>\n",
       "</div>"
      ],
      "text/plain": [
       "   height_in_feet  weight_in_pounds  successful_field_goals  \\\n",
       "0             6.8               225                   0.442   \n",
       "1             6.3               180                   0.435   \n",
       "2             6.4               190                   0.456   \n",
       "3             6.2               180                   0.416   \n",
       "4             6.9               205                   0.449   \n",
       "\n",
       "   percent_of_successful_free_throws  average_points_scored  \n",
       "0                              0.672                    9.2  \n",
       "1                              0.797                   11.7  \n",
       "2                              0.761                   15.8  \n",
       "3                              0.651                    8.6  \n",
       "4                              0.900                   23.2  "
      ]
     },
     "execution_count": 16,
     "metadata": {},
     "output_type": "execute_result"
    }
   ],
   "source": [
    "df.head()"
   ]
  },
  {
   "cell_type": "code",
   "execution_count": 18,
   "metadata": {},
   "outputs": [],
   "source": [
    "y = df[\"average_points_scored\"].values"
   ]
  },
  {
   "cell_type": "code",
   "execution_count": 20,
   "metadata": {},
   "outputs": [
    {
     "data": {
      "text/html": [
       "<div>\n",
       "<style scoped>\n",
       "    .dataframe tbody tr th:only-of-type {\n",
       "        vertical-align: middle;\n",
       "    }\n",
       "\n",
       "    .dataframe tbody tr th {\n",
       "        vertical-align: top;\n",
       "    }\n",
       "\n",
       "    .dataframe thead th {\n",
       "        text-align: right;\n",
       "    }\n",
       "</style>\n",
       "<table border=\"1\" class=\"dataframe\">\n",
       "  <thead>\n",
       "    <tr style=\"text-align: right;\">\n",
       "      <th></th>\n",
       "      <th>height_in_feet</th>\n",
       "      <th>weight_in_pounds</th>\n",
       "      <th>successful_field_goals</th>\n",
       "      <th>percent_of_successful_free_throws</th>\n",
       "    </tr>\n",
       "  </thead>\n",
       "  <tbody>\n",
       "    <tr>\n",
       "      <th>0</th>\n",
       "      <td>6.8</td>\n",
       "      <td>225</td>\n",
       "      <td>0.442</td>\n",
       "      <td>0.672</td>\n",
       "    </tr>\n",
       "    <tr>\n",
       "      <th>1</th>\n",
       "      <td>6.3</td>\n",
       "      <td>180</td>\n",
       "      <td>0.435</td>\n",
       "      <td>0.797</td>\n",
       "    </tr>\n",
       "    <tr>\n",
       "      <th>2</th>\n",
       "      <td>6.4</td>\n",
       "      <td>190</td>\n",
       "      <td>0.456</td>\n",
       "      <td>0.761</td>\n",
       "    </tr>\n",
       "    <tr>\n",
       "      <th>3</th>\n",
       "      <td>6.2</td>\n",
       "      <td>180</td>\n",
       "      <td>0.416</td>\n",
       "      <td>0.651</td>\n",
       "    </tr>\n",
       "    <tr>\n",
       "      <th>4</th>\n",
       "      <td>6.9</td>\n",
       "      <td>205</td>\n",
       "      <td>0.449</td>\n",
       "      <td>0.900</td>\n",
       "    </tr>\n",
       "    <tr>\n",
       "      <th>5</th>\n",
       "      <td>6.4</td>\n",
       "      <td>225</td>\n",
       "      <td>0.431</td>\n",
       "      <td>0.780</td>\n",
       "    </tr>\n",
       "    <tr>\n",
       "      <th>6</th>\n",
       "      <td>6.3</td>\n",
       "      <td>185</td>\n",
       "      <td>0.487</td>\n",
       "      <td>0.771</td>\n",
       "    </tr>\n",
       "    <tr>\n",
       "      <th>7</th>\n",
       "      <td>6.8</td>\n",
       "      <td>235</td>\n",
       "      <td>0.469</td>\n",
       "      <td>0.750</td>\n",
       "    </tr>\n",
       "    <tr>\n",
       "      <th>8</th>\n",
       "      <td>6.9</td>\n",
       "      <td>235</td>\n",
       "      <td>0.435</td>\n",
       "      <td>0.818</td>\n",
       "    </tr>\n",
       "    <tr>\n",
       "      <th>9</th>\n",
       "      <td>6.7</td>\n",
       "      <td>210</td>\n",
       "      <td>0.480</td>\n",
       "      <td>0.825</td>\n",
       "    </tr>\n",
       "    <tr>\n",
       "      <th>10</th>\n",
       "      <td>6.9</td>\n",
       "      <td>245</td>\n",
       "      <td>0.516</td>\n",
       "      <td>0.632</td>\n",
       "    </tr>\n",
       "    <tr>\n",
       "      <th>11</th>\n",
       "      <td>6.9</td>\n",
       "      <td>245</td>\n",
       "      <td>0.493</td>\n",
       "      <td>0.757</td>\n",
       "    </tr>\n",
       "    <tr>\n",
       "      <th>12</th>\n",
       "      <td>6.3</td>\n",
       "      <td>185</td>\n",
       "      <td>0.374</td>\n",
       "      <td>0.709</td>\n",
       "    </tr>\n",
       "    <tr>\n",
       "      <th>13</th>\n",
       "      <td>6.1</td>\n",
       "      <td>185</td>\n",
       "      <td>0.424</td>\n",
       "      <td>0.782</td>\n",
       "    </tr>\n",
       "    <tr>\n",
       "      <th>14</th>\n",
       "      <td>6.2</td>\n",
       "      <td>180</td>\n",
       "      <td>0.441</td>\n",
       "      <td>0.775</td>\n",
       "    </tr>\n",
       "    <tr>\n",
       "      <th>15</th>\n",
       "      <td>6.8</td>\n",
       "      <td>220</td>\n",
       "      <td>0.503</td>\n",
       "      <td>0.880</td>\n",
       "    </tr>\n",
       "    <tr>\n",
       "      <th>16</th>\n",
       "      <td>6.5</td>\n",
       "      <td>194</td>\n",
       "      <td>0.503</td>\n",
       "      <td>0.833</td>\n",
       "    </tr>\n",
       "    <tr>\n",
       "      <th>17</th>\n",
       "      <td>7.6</td>\n",
       "      <td>225</td>\n",
       "      <td>0.425</td>\n",
       "      <td>0.571</td>\n",
       "    </tr>\n",
       "    <tr>\n",
       "      <th>18</th>\n",
       "      <td>6.3</td>\n",
       "      <td>210</td>\n",
       "      <td>0.371</td>\n",
       "      <td>0.816</td>\n",
       "    </tr>\n",
       "    <tr>\n",
       "      <th>19</th>\n",
       "      <td>7.1</td>\n",
       "      <td>240</td>\n",
       "      <td>0.504</td>\n",
       "      <td>0.714</td>\n",
       "    </tr>\n",
       "    <tr>\n",
       "      <th>20</th>\n",
       "      <td>6.8</td>\n",
       "      <td>225</td>\n",
       "      <td>0.400</td>\n",
       "      <td>0.765</td>\n",
       "    </tr>\n",
       "    <tr>\n",
       "      <th>21</th>\n",
       "      <td>7.3</td>\n",
       "      <td>263</td>\n",
       "      <td>0.482</td>\n",
       "      <td>0.655</td>\n",
       "    </tr>\n",
       "    <tr>\n",
       "      <th>22</th>\n",
       "      <td>6.4</td>\n",
       "      <td>210</td>\n",
       "      <td>0.475</td>\n",
       "      <td>0.244</td>\n",
       "    </tr>\n",
       "    <tr>\n",
       "      <th>23</th>\n",
       "      <td>6.8</td>\n",
       "      <td>235</td>\n",
       "      <td>0.428</td>\n",
       "      <td>0.728</td>\n",
       "    </tr>\n",
       "    <tr>\n",
       "      <th>24</th>\n",
       "      <td>7.2</td>\n",
       "      <td>230</td>\n",
       "      <td>0.559</td>\n",
       "      <td>0.721</td>\n",
       "    </tr>\n",
       "    <tr>\n",
       "      <th>25</th>\n",
       "      <td>6.4</td>\n",
       "      <td>190</td>\n",
       "      <td>0.441</td>\n",
       "      <td>0.757</td>\n",
       "    </tr>\n",
       "    <tr>\n",
       "      <th>26</th>\n",
       "      <td>6.6</td>\n",
       "      <td>220</td>\n",
       "      <td>0.492</td>\n",
       "      <td>0.747</td>\n",
       "    </tr>\n",
       "    <tr>\n",
       "      <th>27</th>\n",
       "      <td>6.8</td>\n",
       "      <td>210</td>\n",
       "      <td>0.402</td>\n",
       "      <td>0.739</td>\n",
       "    </tr>\n",
       "    <tr>\n",
       "      <th>28</th>\n",
       "      <td>6.1</td>\n",
       "      <td>180</td>\n",
       "      <td>0.415</td>\n",
       "      <td>0.713</td>\n",
       "    </tr>\n",
       "    <tr>\n",
       "      <th>29</th>\n",
       "      <td>6.5</td>\n",
       "      <td>235</td>\n",
       "      <td>0.492</td>\n",
       "      <td>0.742</td>\n",
       "    </tr>\n",
       "    <tr>\n",
       "      <th>30</th>\n",
       "      <td>6.4</td>\n",
       "      <td>185</td>\n",
       "      <td>0.484</td>\n",
       "      <td>0.861</td>\n",
       "    </tr>\n",
       "    <tr>\n",
       "      <th>31</th>\n",
       "      <td>6.0</td>\n",
       "      <td>175</td>\n",
       "      <td>0.387</td>\n",
       "      <td>0.721</td>\n",
       "    </tr>\n",
       "    <tr>\n",
       "      <th>32</th>\n",
       "      <td>6.0</td>\n",
       "      <td>192</td>\n",
       "      <td>0.436</td>\n",
       "      <td>0.785</td>\n",
       "    </tr>\n",
       "    <tr>\n",
       "      <th>33</th>\n",
       "      <td>7.3</td>\n",
       "      <td>263</td>\n",
       "      <td>0.482</td>\n",
       "      <td>0.655</td>\n",
       "    </tr>\n",
       "    <tr>\n",
       "      <th>34</th>\n",
       "      <td>6.1</td>\n",
       "      <td>180</td>\n",
       "      <td>0.340</td>\n",
       "      <td>0.821</td>\n",
       "    </tr>\n",
       "    <tr>\n",
       "      <th>35</th>\n",
       "      <td>6.7</td>\n",
       "      <td>240</td>\n",
       "      <td>0.516</td>\n",
       "      <td>0.728</td>\n",
       "    </tr>\n",
       "    <tr>\n",
       "      <th>36</th>\n",
       "      <td>6.4</td>\n",
       "      <td>210</td>\n",
       "      <td>0.475</td>\n",
       "      <td>0.846</td>\n",
       "    </tr>\n",
       "    <tr>\n",
       "      <th>37</th>\n",
       "      <td>5.8</td>\n",
       "      <td>160</td>\n",
       "      <td>0.412</td>\n",
       "      <td>0.813</td>\n",
       "    </tr>\n",
       "    <tr>\n",
       "      <th>38</th>\n",
       "      <td>6.9</td>\n",
       "      <td>230</td>\n",
       "      <td>0.411</td>\n",
       "      <td>0.595</td>\n",
       "    </tr>\n",
       "    <tr>\n",
       "      <th>39</th>\n",
       "      <td>7.0</td>\n",
       "      <td>245</td>\n",
       "      <td>0.407</td>\n",
       "      <td>0.573</td>\n",
       "    </tr>\n",
       "    <tr>\n",
       "      <th>40</th>\n",
       "      <td>7.3</td>\n",
       "      <td>228</td>\n",
       "      <td>0.445</td>\n",
       "      <td>0.726</td>\n",
       "    </tr>\n",
       "    <tr>\n",
       "      <th>41</th>\n",
       "      <td>5.9</td>\n",
       "      <td>155</td>\n",
       "      <td>0.291</td>\n",
       "      <td>0.707</td>\n",
       "    </tr>\n",
       "    <tr>\n",
       "      <th>42</th>\n",
       "      <td>6.2</td>\n",
       "      <td>200</td>\n",
       "      <td>0.449</td>\n",
       "      <td>0.804</td>\n",
       "    </tr>\n",
       "    <tr>\n",
       "      <th>43</th>\n",
       "      <td>6.8</td>\n",
       "      <td>235</td>\n",
       "      <td>0.546</td>\n",
       "      <td>0.784</td>\n",
       "    </tr>\n",
       "    <tr>\n",
       "      <th>44</th>\n",
       "      <td>7.0</td>\n",
       "      <td>235</td>\n",
       "      <td>0.480</td>\n",
       "      <td>0.744</td>\n",
       "    </tr>\n",
       "    <tr>\n",
       "      <th>45</th>\n",
       "      <td>5.9</td>\n",
       "      <td>105</td>\n",
       "      <td>0.359</td>\n",
       "      <td>0.839</td>\n",
       "    </tr>\n",
       "    <tr>\n",
       "      <th>46</th>\n",
       "      <td>6.1</td>\n",
       "      <td>180</td>\n",
       "      <td>0.528</td>\n",
       "      <td>0.790</td>\n",
       "    </tr>\n",
       "    <tr>\n",
       "      <th>47</th>\n",
       "      <td>5.7</td>\n",
       "      <td>185</td>\n",
       "      <td>0.352</td>\n",
       "      <td>0.701</td>\n",
       "    </tr>\n",
       "    <tr>\n",
       "      <th>48</th>\n",
       "      <td>7.1</td>\n",
       "      <td>245</td>\n",
       "      <td>0.414</td>\n",
       "      <td>0.778</td>\n",
       "    </tr>\n",
       "    <tr>\n",
       "      <th>49</th>\n",
       "      <td>5.8</td>\n",
       "      <td>180</td>\n",
       "      <td>0.425</td>\n",
       "      <td>0.872</td>\n",
       "    </tr>\n",
       "    <tr>\n",
       "      <th>50</th>\n",
       "      <td>7.4</td>\n",
       "      <td>240</td>\n",
       "      <td>0.599</td>\n",
       "      <td>0.713</td>\n",
       "    </tr>\n",
       "    <tr>\n",
       "      <th>51</th>\n",
       "      <td>6.8</td>\n",
       "      <td>225</td>\n",
       "      <td>0.482</td>\n",
       "      <td>0.701</td>\n",
       "    </tr>\n",
       "    <tr>\n",
       "      <th>52</th>\n",
       "      <td>6.8</td>\n",
       "      <td>215</td>\n",
       "      <td>0.457</td>\n",
       "      <td>0.734</td>\n",
       "    </tr>\n",
       "    <tr>\n",
       "      <th>53</th>\n",
       "      <td>7.0</td>\n",
       "      <td>230</td>\n",
       "      <td>0.435</td>\n",
       "      <td>0.764</td>\n",
       "    </tr>\n",
       "  </tbody>\n",
       "</table>\n",
       "</div>"
      ],
      "text/plain": [
       "    height_in_feet  weight_in_pounds  successful_field_goals  \\\n",
       "0              6.8               225                   0.442   \n",
       "1              6.3               180                   0.435   \n",
       "2              6.4               190                   0.456   \n",
       "3              6.2               180                   0.416   \n",
       "4              6.9               205                   0.449   \n",
       "5              6.4               225                   0.431   \n",
       "6              6.3               185                   0.487   \n",
       "7              6.8               235                   0.469   \n",
       "8              6.9               235                   0.435   \n",
       "9              6.7               210                   0.480   \n",
       "10             6.9               245                   0.516   \n",
       "11             6.9               245                   0.493   \n",
       "12             6.3               185                   0.374   \n",
       "13             6.1               185                   0.424   \n",
       "14             6.2               180                   0.441   \n",
       "15             6.8               220                   0.503   \n",
       "16             6.5               194                   0.503   \n",
       "17             7.6               225                   0.425   \n",
       "18             6.3               210                   0.371   \n",
       "19             7.1               240                   0.504   \n",
       "20             6.8               225                   0.400   \n",
       "21             7.3               263                   0.482   \n",
       "22             6.4               210                   0.475   \n",
       "23             6.8               235                   0.428   \n",
       "24             7.2               230                   0.559   \n",
       "25             6.4               190                   0.441   \n",
       "26             6.6               220                   0.492   \n",
       "27             6.8               210                   0.402   \n",
       "28             6.1               180                   0.415   \n",
       "29             6.5               235                   0.492   \n",
       "30             6.4               185                   0.484   \n",
       "31             6.0               175                   0.387   \n",
       "32             6.0               192                   0.436   \n",
       "33             7.3               263                   0.482   \n",
       "34             6.1               180                   0.340   \n",
       "35             6.7               240                   0.516   \n",
       "36             6.4               210                   0.475   \n",
       "37             5.8               160                   0.412   \n",
       "38             6.9               230                   0.411   \n",
       "39             7.0               245                   0.407   \n",
       "40             7.3               228                   0.445   \n",
       "41             5.9               155                   0.291   \n",
       "42             6.2               200                   0.449   \n",
       "43             6.8               235                   0.546   \n",
       "44             7.0               235                   0.480   \n",
       "45             5.9               105                   0.359   \n",
       "46             6.1               180                   0.528   \n",
       "47             5.7               185                   0.352   \n",
       "48             7.1               245                   0.414   \n",
       "49             5.8               180                   0.425   \n",
       "50             7.4               240                   0.599   \n",
       "51             6.8               225                   0.482   \n",
       "52             6.8               215                   0.457   \n",
       "53             7.0               230                   0.435   \n",
       "\n",
       "    percent_of_successful_free_throws  \n",
       "0                               0.672  \n",
       "1                               0.797  \n",
       "2                               0.761  \n",
       "3                               0.651  \n",
       "4                               0.900  \n",
       "5                               0.780  \n",
       "6                               0.771  \n",
       "7                               0.750  \n",
       "8                               0.818  \n",
       "9                               0.825  \n",
       "10                              0.632  \n",
       "11                              0.757  \n",
       "12                              0.709  \n",
       "13                              0.782  \n",
       "14                              0.775  \n",
       "15                              0.880  \n",
       "16                              0.833  \n",
       "17                              0.571  \n",
       "18                              0.816  \n",
       "19                              0.714  \n",
       "20                              0.765  \n",
       "21                              0.655  \n",
       "22                              0.244  \n",
       "23                              0.728  \n",
       "24                              0.721  \n",
       "25                              0.757  \n",
       "26                              0.747  \n",
       "27                              0.739  \n",
       "28                              0.713  \n",
       "29                              0.742  \n",
       "30                              0.861  \n",
       "31                              0.721  \n",
       "32                              0.785  \n",
       "33                              0.655  \n",
       "34                              0.821  \n",
       "35                              0.728  \n",
       "36                              0.846  \n",
       "37                              0.813  \n",
       "38                              0.595  \n",
       "39                              0.573  \n",
       "40                              0.726  \n",
       "41                              0.707  \n",
       "42                              0.804  \n",
       "43                              0.784  \n",
       "44                              0.744  \n",
       "45                              0.839  \n",
       "46                              0.790  \n",
       "47                              0.701  \n",
       "48                              0.778  \n",
       "49                              0.872  \n",
       "50                              0.713  \n",
       "51                              0.701  \n",
       "52                              0.734  \n",
       "53                              0.764  "
      ]
     },
     "execution_count": 20,
     "metadata": {},
     "output_type": "execute_result"
    }
   ],
   "source": [
    "df.iloc[:,:-1]"
   ]
  },
  {
   "cell_type": "code",
   "execution_count": 21,
   "metadata": {},
   "outputs": [],
   "source": [
    "X = df.iloc[:,:-1].values"
   ]
  },
  {
   "cell_type": "code",
   "execution_count": 22,
   "metadata": {},
   "outputs": [],
   "source": [
    "mu_X = np.mean(X, axis=0)\n",
    "std_x = np.std(X, axis=0)\n",
    "\n",
    "rescaled_X = (X-mu_X)/std_x"
   ]
  },
  {
   "cell_type": "code",
   "execution_count": 23,
   "metadata": {},
   "outputs": [
    {
     "name": "stdout",
     "output_type": "stream",
     "text": [
      "[11.79074074 -1.67779283  0.28359762  2.68586629  1.12816882]\n",
      "-1.6777928325040945\n"
     ]
    }
   ],
   "source": [
    "lr.fit(rescaled_X, y)"
   ]
  },
  {
   "cell_type": "code",
   "execution_count": 24,
   "metadata": {},
   "outputs": [
    {
     "data": {
      "text/plain": [
       "-1.6777928325040945"
      ]
     },
     "execution_count": 24,
     "metadata": {},
     "output_type": "execute_result"
    }
   ],
   "source": [
    "lr.coef"
   ]
  },
  {
   "cell_type": "code",
   "execution_count": 25,
   "metadata": {},
   "outputs": [
    {
     "data": {
      "text/plain": [
       "11.790740740740738"
      ]
     },
     "execution_count": 25,
     "metadata": {},
     "output_type": "execute_result"
    }
   ],
   "source": [
    "lr.intercept"
   ]
  },
  {
   "cell_type": "code",
   "execution_count": 27,
   "metadata": {},
   "outputs": [
    {
     "data": {
      "text/plain": [
       "LinearRegression()"
      ]
     },
     "execution_count": 27,
     "metadata": {},
     "output_type": "execute_result"
    }
   ],
   "source": [
    "sk_lr.fit(rescaled_X, y)"
   ]
  },
  {
   "cell_type": "code",
   "execution_count": 28,
   "metadata": {},
   "outputs": [
    {
     "data": {
      "text/plain": [
       "array([-1.67779283,  0.28359762,  2.68586629,  1.12816882])"
      ]
     },
     "execution_count": 28,
     "metadata": {},
     "output_type": "execute_result"
    }
   ],
   "source": [
    "sk_lr.coef_"
   ]
  },
  {
   "cell_type": "code",
   "execution_count": null,
   "metadata": {},
   "outputs": [],
   "source": []
  }
 ],
 "metadata": {
  "kernelspec": {
   "display_name": "Python 3",
   "language": "python",
   "name": "python3"
  },
  "language_info": {
   "codemirror_mode": {
    "name": "ipython",
    "version": 3
   },
   "file_extension": ".py",
   "mimetype": "text/x-python",
   "name": "python",
   "nbconvert_exporter": "python",
   "pygments_lexer": "ipython3",
   "version": "3.7.6"
  }
 },
 "nbformat": 4,
 "nbformat_minor": 4
}
